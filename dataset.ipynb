{
 "cells": [
  {
   "cell_type": "code",
   "execution_count": 1,
   "metadata": {},
   "outputs": [],
   "source": [
    "from noise_generator import create_blurred_images"
   ]
  },
  {
   "cell_type": "code",
   "execution_count": 2,
   "metadata": {},
   "outputs": [],
   "source": [
    "image_directory = \"data_new/raw-img/cane\""
   ]
  },
  {
   "cell_type": "code",
   "execution_count": 3,
   "metadata": {},
   "outputs": [
    {
     "name": "stdout",
     "output_type": "stream",
     "text": [
      "['data_new/raw-img/cane/OIP-Q45K6pszqn6enD8-6q_fegHaFJ.jpeg', 'data_new/raw-img/cane/OIP-33tm4LyWi7J0bGgVBzrjUwHaFj.jpeg', 'data_new/raw-img/cane/OIP-pvLK0Qm58FVMLYeD94Xl0QHaJQ.jpeg', 'data_new/raw-img/cane/OIP--BUglHhzleeaUXxOXNbgRQHaEK.jpeg', 'data_new/raw-img/cane/OIP-aD_7tN6EN8qfm9-faP0nbwHaE6.jpeg', 'data_new/raw-img/cane/OIP-vHXK92AOLd9Vsh32AQRLpQHaJ4.jpeg', 'data_new/raw-img/cane/OIP-XPO-RkDvIEO8nexFHL8gEgHaFe.jpeg', 'data_new/raw-img/cane/OIP-ljMiG4PbPeitFKNLEtEmwgHaJ4.jpeg', 'data_new/raw-img/cane/OIP-WQRHgbXEU7IURVWhksMf2AHaNK.jpeg', 'data_new/raw-img/cane/OIP-I9pb7UmnLSNjVdSL8CxnMgHaFj.jpeg', 'data_new/raw-img/cane/OIP-1QAZ3az3PslGA0yMAYmPBQHaFZ.jpeg', 'data_new/raw-img/cane/OIP-9XCHs9GEq7Lk2ZDGSdG16gHaF2.jpeg', 'data_new/raw-img/cane/OIP-M6wF2RE2xlCy3zRaIQmNmAHaFj.jpeg', 'data_new/raw-img/cane/OIP-AokC08h29SBY3LfwocwMLAHaJH.jpeg', 'data_new/raw-img/cane/OIP-zdQUfAWn7xT6taYCv04wMgHaHb.jpeg', 'data_new/raw-img/cane/OIP-CWJttXZDJf3rARWxQ_K2DQHaFa.jpeg', 'data_new/raw-img/cane/OIP-MaESuqyhd8OKciqTbcnP_QHaHa.jpeg', 'data_new/raw-img/cane/OIP-ngZo4O1g2qpaAsI28c72ZAHaFi.jpeg', 'data_new/raw-img/cane/OIP-eawPttgShWfuqhCDjYNXNwHaFj.jpeg', 'data_new/raw-img/cane/OIP-vGHEy8hup_Bg2pQBJ9jzDwHaNI.jpeg', 'data_new/raw-img/cane/OIP-SLkg947pUIA4lUqwwAoRAgHaE7.jpeg', 'data_new/raw-img/cane/OIP-wOgoVPA-EtWVe2_585km_gHaDt.jpeg', 'data_new/raw-img/cane/OIP-3WEzyeaiFic-DU-f9CcYswHaFh.jpeg', 'data_new/raw-img/cane/OIP-jDHcv34yrxxMq93B1BMEgwHaFj.jpeg', 'data_new/raw-img/cane/OIP-tny4XdFtHOawk7j78X-ObAHaJ4.jpeg', 'data_new/raw-img/cane/OIP-OqIZ49kX278zOKv3fRblmgHaGg.jpeg', 'data_new/raw-img/cane/OIP-0cMunZ5IpSFGRbH_vYFvXgHaJ3.jpeg', 'data_new/raw-img/cane/OIP-bw47xhAen0UiLtONf9biCQAAAA.jpeg', 'data_new/raw-img/cane/OIP-HwUL9x-GZn6--pI3PfEoSwHaFj.jpeg', 'data_new/raw-img/cane/OIP-I_uuryghJ3TicIR79OC_SwHaJ4.jpeg', 'data_new/raw-img/cane/OIP-NISeiZQbo4uwcohIOaqQsAHaJ4.jpeg', 'data_new/raw-img/cane/OIP-3_l_T4_hU5o21odZdEHlfAHaFc.jpeg', 'data_new/raw-img/cane/OIP-9eTuOCGKnRBv0BclGuXFFwHaEK.jpeg', 'data_new/raw-img/cane/OIP-NQyVaUdlvP8zKuetfmyDpAHaFi.jpeg', 'data_new/raw-img/cane/OIP-qgoh-WlYIKPSHlnkIp94BwHaHu.jpeg', 'data_new/raw-img/cane/OIP-3Viz--nA1-To-iRrG70i7wAAAA.jpeg', 'data_new/raw-img/cane/OIP-CKpG5Zh3gQLkJYXmNO3u1AHaFh.jpeg', 'data_new/raw-img/cane/OIP-7BMNpEmQ--dhWu7xyt6yIwHaFj.jpeg', 'data_new/raw-img/cane/OIP-SlMYhr9y5AnBnJQs1J2klwHaE9.jpeg', 'data_new/raw-img/cane/OIP-UJX5bV0i1Clqw72etVxt1AExDM.jpeg', 'data_new/raw-img/cane/OIP--tx2au-jG4xH01_RsE7UQQHaFj.jpeg', 'data_new/raw-img/cane/OIP-gtSHEYq5G7Iw3T_X_Jn1EQHaHa.jpeg', 'data_new/raw-img/cane/OIP-AFdOPdr8MRp0JBeEWlZ3hAAAAA.jpeg', 'data_new/raw-img/cane/OIP-xukU1EIrpvrxA9pNTwaoWgHaE8.jpeg', 'data_new/raw-img/cane/OIP-YyeauP0zuVc7i91Up3M41AHaFj.jpeg', 'data_new/raw-img/cane/OIP-ZT5NMWMt3fQb3B260yTsFgHaHa.jpeg', 'data_new/raw-img/cane/OIP-ZOioh0cZHOnAVBon7I8sEgHaHa.jpeg', 'data_new/raw-img/cane/OIP-mysMk7ogsEryhPoTHRBXCwHaFZ.jpeg', 'data_new/raw-img/cane/OIP-tBuLAR9MyyqkcIgh1oo76wHaGJ.jpeg', 'data_new/raw-img/cane/OIP-MzTLX6G95lCigdv59NQ9FAHaLH.jpeg']\n"
     ]
    },
    {
     "name": "stderr",
     "output_type": "stream",
     "text": [
      "100%|██████████| 50/50 [00:00<00:00, 141.10it/s]\n"
     ]
    },
    {
     "name": "stdout",
     "output_type": "stream",
     "text": [
      "Processed images from 0 to 50\n",
      "['data_new/raw-img/cane/OIP-7VFfOw4iL_ksVgdtvp4mEwHaLL.jpeg', 'data_new/raw-img/cane/OIP-SBbh2Qh_5dAOwL6y6DyMFgHaFA.jpeg', 'data_new/raw-img/cane/OIP-usA8IcnCTioLqJJw07seEwHaF7.jpeg', 'data_new/raw-img/cane/OIP-oAfLxwxcFzxsV-JvuAXJUgHaFj.jpeg', 'data_new/raw-img/cane/OIP-K4N-G2lcyps3ZUQMSjNtaAHaFj.jpeg', 'data_new/raw-img/cane/OIP-JVwJmcP0D3AyDZRIBBIlrAHaEK.jpeg', 'data_new/raw-img/cane/OIP-SVOVWEAqxFMBT2HV__9pcQHaF_.jpeg', 'data_new/raw-img/cane/OIP-z-OwfL4HykOFtwh3nOKizgHaEx.jpeg', 'data_new/raw-img/cane/OIP-73khJ9rdtQzsBImI6zkaqwHaGW.jpeg', 'data_new/raw-img/cane/OIP-yta9xCUkoHvHjiUar1iKQQHaE7.jpeg', 'data_new/raw-img/cane/OIP-Kq8nABjHu1zoXh4m59e7gwHaHI.jpeg', 'data_new/raw-img/cane/OIP-KXMVuPfPtTo-Tca2ZJTSLQHaE8.jpeg', 'data_new/raw-img/cane/OIP-oYENFJLU_1jMshgE1gpa_QHaFc.jpeg', 'data_new/raw-img/cane/OIP-wnh3L_bkGhXEyNkFq6OIlQHaHo.jpeg', 'data_new/raw-img/cane/OIP-JOhDHeDloIkf1KQOmg37oAHaF7.jpeg', 'data_new/raw-img/cane/OIP-w9_sTNEwp6FSTYtUvm0w-AHaJ6.jpeg', 'data_new/raw-img/cane/OIP-uUAVkRsSZ7Asc6jF_5HRQQHaHa.jpeg', 'data_new/raw-img/cane/OIP-bm7-FaOdm8KaPMSzaWoauwHaE8.jpeg', 'data_new/raw-img/cane/OIP-FjXAQa6nUYv8MSE2iL-VqQHaE7.jpeg', 'data_new/raw-img/cane/OIP-_k_31g7jp-n1WA3oUrZnUQHaF0.jpeg', 'data_new/raw-img/cane/OIP-tQo-uVkMFHb1Z0dN4b9S-AHaFj.jpeg', 'data_new/raw-img/cane/OIP-K1TTUyhDdr09hUguG_h-SwHaFj.jpeg', 'data_new/raw-img/cane/OIP-yG5_jyvFR9Moi4b9V2l3VwHaLJ.jpeg', 'data_new/raw-img/cane/OIP-E1Cz-grWMhm8evvrzWQujQHaFj.jpeg', 'data_new/raw-img/cane/OIP-rFyxtoWYc3OFCDoHYLdBugHaE7.jpeg', 'data_new/raw-img/cane/OIP-hoolVvulSNZCtsHdryf-TgHaFj.jpeg', 'data_new/raw-img/cane/OIP-cu8yp-C9cBm5MFwF1X084AHaHa.jpeg', 'data_new/raw-img/cane/OIP-Er6flB1n9xB-qkAxVSo2qgHaLw.jpeg', 'data_new/raw-img/cane/OIP-HxkKhhPhQMVPfyWJ1OjM_QHaFj.jpeg', 'data_new/raw-img/cane/OIP-plA9Vk6lqfNhsXjv9erNmgHaFv.jpeg', 'data_new/raw-img/cane/OIP-pa39fucPiDxnaPFUelZEFQHaHa.jpeg', 'data_new/raw-img/cane/OIP-eZ0Tg5Tl8opsEpxD8FF7uAHaIV.jpeg', 'data_new/raw-img/cane/OIP-z_9YifLhPW0QANVPHjl0KQHaIA.jpeg', 'data_new/raw-img/cane/OIP-3CGiEtuRwVmB98qXRjxmywAAAA.jpeg', 'data_new/raw-img/cane/OIP-qh6EAfSIxPoOYDQVPNKfwgHaHa.jpeg', 'data_new/raw-img/cane/OIP-pgSR8pZLgqS-PuoN1lIEggHaFj.jpeg', 'data_new/raw-img/cane/OIP-mEEG3M7QdU23oKtToyk0EwHaE7.jpeg', 'data_new/raw-img/cane/OIP-4afqUHyJVlQjd2nk7EYIiQHaEK.jpeg', 'data_new/raw-img/cane/OIP-uunK8lUt7R7rJ49xrgpSwAHaKd.jpeg', 'data_new/raw-img/cane/OIP-mZlS1yCT8SGBx8D2rQiqrAHaFk.jpeg', 'data_new/raw-img/cane/OIP-9pOEYUNFsUuKiZ3jIL-MEgHaH6.jpeg', 'data_new/raw-img/cane/OIP-mF80iFpNY5pHBO7uCt9gugHaJN.jpeg', 'data_new/raw-img/cane/OIP-UM5taQtGe28etsT8m-YwTgHaEN.jpeg', 'data_new/raw-img/cane/OIP-FeexT701v4tahB4URxSoIAHaE7.jpeg', 'data_new/raw-img/cane/OIP-XAtUbH4ib1itYFJH-0mV6gHaE7.jpeg', 'data_new/raw-img/cane/OIP-DRleYNAbDUlwOs6MSqf4WgHaFi.jpeg', 'data_new/raw-img/cane/OIP-z1IPLHRjG7f0Mkh5iH-y6QHaFi.jpeg', 'data_new/raw-img/cane/OIP-R4vtGxLkoJ5tzrjiO8lG8AHaIa.jpeg', 'data_new/raw-img/cane/OIP-v2haMkSdL539NxSSMmJZzQHaHJ.jpeg', 'data_new/raw-img/cane/OIP-BFcJ_H9KqDmkvGE9zehIWgHaJ4.jpeg']\n"
     ]
    },
    {
     "name": "stderr",
     "output_type": "stream",
     "text": [
      "100%|██████████| 50/50 [00:00<00:00, 128.80it/s]\n"
     ]
    },
    {
     "name": "stdout",
     "output_type": "stream",
     "text": [
      "Processed images from 50 to 100\n",
      "['data_new/raw-img/cane/OIP-CQMji4YXqoy0MkqnF4h3DwHaFj.jpeg', 'data_new/raw-img/cane/OIP-HSLGtD6X-Dwptsok_00i2wHaHa.jpeg', 'data_new/raw-img/cane/OIP-v6O57nL74Kfcp-PmoDOElgHaJ4.jpeg', 'data_new/raw-img/cane/OIP-idSbgFFphtl1YaOeJ8djsAHaNK.jpeg', 'data_new/raw-img/cane/OIP-rBo_-NZ9ECM6YsJmok_vkgHaGY.jpeg', 'data_new/raw-img/cane/OIP-iuD1HqqtmtlGUu8pWauVIQHaHF.jpeg', 'data_new/raw-img/cane/OIP-vgkDI030hLDjxjXhhgvTGgHaFj.jpeg', 'data_new/raw-img/cane/OIP-hR847vkUJ6fvfCYeGwYwTgHaDt.jpeg', 'data_new/raw-img/cane/OIP-pTvPYXBqScPEX65Ka-J79wHaF5.jpeg', 'data_new/raw-img/cane/OIP-R_PmQFKl33fHN34KqtnxiQHaFj.jpeg', 'data_new/raw-img/cane/OIP-vTY2FCFeDIkzApitO3FnbAHaFu.jpeg', 'data_new/raw-img/cane/OIP-gTK3d_QKpQq3eRzJQlB0FQHaFj.jpeg', 'data_new/raw-img/cane/OIP-ZuI6gGwdcCj7bj6c_Vo0zgHaE8.jpeg', 'data_new/raw-img/cane/OIP-9jM9AjraFSDAJX9Mk_OtbwHaFj.jpeg', 'data_new/raw-img/cane/OIP-Pvcf6LL65dsJ1jV9JkfHNQHaE7.jpeg', 'data_new/raw-img/cane/OIP-_lsGqgDWBe4VDPgw8DDkTgHaFj.jpeg', 'data_new/raw-img/cane/OIP-Uz_gbQ71Ft9m70i_P7UJYQHaE8.jpeg', 'data_new/raw-img/cane/OIP-4Fx1vinZ7Srh0nHbrnK9FQHaH_.jpeg', 'data_new/raw-img/cane/OIP-X6bibl4h9IHwSZP9x43OkgHaJ4.jpeg', 'data_new/raw-img/cane/OIP-7vfA3IIGBxvLdLnc3UwTfAHaFg.jpeg', 'data_new/raw-img/cane/OIP-I_rtgepZIsyAPoN2KkU_BwHaJ4.jpeg', 'data_new/raw-img/cane/OIP-gmnNMXeL9jx29L_h_GlPpgHaJ4.jpeg', 'data_new/raw-img/cane/OIP-q0ZdEmGhr8hLzno4njJ2rQHaFj.jpeg', 'data_new/raw-img/cane/OIP-7K9CKHEnBqzumma4jkiXZwHaKV.jpeg', 'data_new/raw-img/cane/OIP-49EzwfQF4PfsCfNjoR4WMAHaFW.jpeg', 'data_new/raw-img/cane/OIP-dWag2Nvtfna6bo-ZDWIVMgHaFj.jpeg', 'data_new/raw-img/cane/OIP-1UiwAQdMbUHb6BflmmWKFAHaEK.jpeg', 'data_new/raw-img/cane/OIP-iGbFNHD1MRtdqJpOaM-UWgHaEL.jpeg', 'data_new/raw-img/cane/OIP-7F-J3StLbpuvzRxrdT7lewHaIq.jpeg', 'data_new/raw-img/cane/OIP-sOkMOcqtOpxVqnYELV5sAwHaEK.jpeg', 'data_new/raw-img/cane/OIP-eYax0TWIujDzbEWZAEU-dgHaFj.jpeg', 'data_new/raw-img/cane/OIP-wTDXgsIP5nrfYgruXyt3ZAHaEK.jpeg', 'data_new/raw-img/cane/OIP-a5-z8_oQu2MFTks7l2lpowHaFj.jpeg', 'data_new/raw-img/cane/OIP-7iu9fvvULOBjtWUApXeqZQHaLK.jpeg', 'data_new/raw-img/cane/OIP-PE0EfRwaxuuMK24q23h2jQHaFg.jpeg', 'data_new/raw-img/cane/OIP-CuSfeaZ_ETKQUox7adb2wAHaHa.jpeg', 'data_new/raw-img/cane/OIP-m8yE2OKhIgj7RPLW1jVPWwHaEK.jpeg', 'data_new/raw-img/cane/OIP-1TAVqN6lx6ytUZozD40uZAHaHa.jpeg', 'data_new/raw-img/cane/OIP-vkHM2x1Srfm6mHgJHalnVgHaEK.jpeg', 'data_new/raw-img/cane/OIP-3ZZJ9Clc2L83GPmyGf4LwAEsEs.jpeg', 'data_new/raw-img/cane/OIP-giOeQq2iqD80dJQKBy14MwHaFj.jpeg', 'data_new/raw-img/cane/OIP-t7fJhv5ie5YyAN2lAxG_bAHaHE.jpeg', 'data_new/raw-img/cane/OIP-Ui0aL3-OxFtBqvJMg-TqzQHaJ4.jpeg', 'data_new/raw-img/cane/OIP-5hI4KOsaeyvSjy7_LiTJCgHaFm.jpeg', 'data_new/raw-img/cane/OIP-RK08N3tPEObi54QnYmBLHQHaJ4.jpeg', 'data_new/raw-img/cane/OIP-beKsdoWDY09yzrmP-6SHtQHaHa.jpeg', 'data_new/raw-img/cane/OIP-Q6L_hQHAnc0Mr1CqPKs2iwHaFE.jpeg', 'data_new/raw-img/cane/OIP--GlCH31Wry6Uj4tAHTnIUwHaJv.jpeg', 'data_new/raw-img/cane/OIP-76-YcKQApRKh-XA9eakmtQAAAA.jpeg', 'data_new/raw-img/cane/OIP-os_uHCMylbE0zgxbfvXsEgHaFj.jpeg']\n"
     ]
    },
    {
     "name": "stderr",
     "output_type": "stream",
     "text": [
      "100%|██████████| 50/50 [00:00<00:00, 123.82it/s]\n"
     ]
    },
    {
     "name": "stdout",
     "output_type": "stream",
     "text": [
      "Processed images from 100 to 150\n",
      "['data_new/raw-img/cane/OIP-KbGb5Op6bGbqjxTnX2vRXAHaE7.jpeg', 'data_new/raw-img/cane/OIP-P1t2tC4N5Uj__qLrfJkqHwHaE7.jpeg', 'data_new/raw-img/cane/OIP-1XFM-0A5nIMIS2-3u84B3wHaJ3.jpeg', 'data_new/raw-img/cane/OIP-q3LyPlbtuv25FaIyVEwkTwHaEZ.jpeg', 'data_new/raw-img/cane/OIP-YMUje7Kos50CEvjxdKxlNAHaFj.jpeg', 'data_new/raw-img/cane/OIP-OvJ4RIzjgQntvdAOUyFJyQHaE6.jpeg', 'data_new/raw-img/cane/OIP-ZdOG7FaKX1_M9vzYKkRcCgHaFj.jpeg', 'data_new/raw-img/cane/OIP-byvYeHD8P2oHcyIC3v0A6QHaE8.jpeg', 'data_new/raw-img/cane/OIP-lshxrfW0ByIMYTYyRn0j6gHaEK.jpeg', 'data_new/raw-img/cane/OIP-ysr6e0rJOOkB-ia7QSwuAwHaIV.jpeg', 'data_new/raw-img/cane/OIP-SkuF9mv2qgX4jfsHtF_YxAHaE8.jpeg', 'data_new/raw-img/cane/OIP-xAs5GWkLXO3uUM4ahxOmAwHaE5.jpeg', 'data_new/raw-img/cane/OIP-8NPJsCNXQKb3dGjbYjqzbAHaHa.jpeg', 'data_new/raw-img/cane/OIP-5fdvDnLl7Rwb0o1l133W0gHaGS.jpeg', 'data_new/raw-img/cane/OIP-svrZdcdFXfeG7OINmNZQsQHaF7.jpeg', 'data_new/raw-img/cane/OIP-WfukF187NfSDkU_EU4ZczwHaEo.jpeg', 'data_new/raw-img/cane/OIP-l_gtZxNkJ5Br0yU-eFlMFQHaDe.jpeg', 'data_new/raw-img/cane/OIP-ToDDYQomoojPqLKPEVYkwgHaE9.jpeg', 'data_new/raw-img/cane/OIP-54-XMrTbroJ00fwu3f5ocwHaFj.jpeg', 'data_new/raw-img/cane/OIP-lcrEGd7DDvuGE37URIXssQHaHa.jpeg', 'data_new/raw-img/cane/OIP-0tNdMJW0sj9eGgt8dyLq6wHaHX.jpeg', 'data_new/raw-img/cane/OIP-AJH0kroS3ht6VP_78tEsagHaFj.jpeg', 'data_new/raw-img/cane/OIP-xDV4LueDw5KMFnknqNY4YgHaFQ.jpeg', 'data_new/raw-img/cane/OIP-sAaadJSBcITSJBCKNx-JtgAAAA.jpeg', 'data_new/raw-img/cane/OIP-_GmIl90tmXb9c72orTGKEQHaJ4.jpeg', 'data_new/raw-img/cane/OIP-FNeMtAO1NFwGMSduQQhh0gHaE8.jpeg', 'data_new/raw-img/cane/OIP-lN8A3itj4bWNnca4KbwyTAHaJ4.jpeg', 'data_new/raw-img/cane/OIP-eWHaJyNYLQTIMYCizcZcZQHaGm.jpeg', 'data_new/raw-img/cane/OIP-GIT1E-DGfP0urJzg1rOR0QHaIo.jpeg', 'data_new/raw-img/cane/OIP-cjAVlOs_Fv9nYwj03Ui23AHaE5.jpeg', 'data_new/raw-img/cane/OIP-RC1URM-REtOo_pqlAPjJUwHaKS.jpeg', 'data_new/raw-img/cane/OIP-_kYbiTcXHdpAyx4Ph2rBLwHaFj.jpeg', 'data_new/raw-img/cane/OIP-b3CWzVlKj8n1q1pH7N09KQHaFj.jpeg', 'data_new/raw-img/cane/OIP-aAj-vrY-AUnBaOF_xaJ-7AEsDh.jpeg', 'data_new/raw-img/cane/OIP-YLN03UH72BFEbwuEj7CASgHaID.jpeg', 'data_new/raw-img/cane/OIP-Ax-pm8OupW1eZ7jdF7xeXAHaHa.jpeg', 'data_new/raw-img/cane/OIP-3K1Y070zliIWG7NWZMpwPQHaE6.jpeg', 'data_new/raw-img/cane/OIP-mARDUQBk51xiyU23o76FfAHaEj.jpeg', 'data_new/raw-img/cane/OIP-3AS8_VYncvotItEQ9KXS3QHaFj.jpeg', 'data_new/raw-img/cane/OIP-R5IJ-MOLVniwDbekjD4yDgHaFi.jpeg', 'data_new/raw-img/cane/OIP-gpiKHSNCKZ4AUkSMGYlFtwHaE8.jpeg', 'data_new/raw-img/cane/OIP-L8sE0i1kKISofpP_lFAyygHaFj.jpeg', 'data_new/raw-img/cane/OIP-o9_pwBFtbWXNF0dt6I9blgHaFj.jpeg', 'data_new/raw-img/cane/OIP-kMvwUXr94CXoy1QcN-ONyAHaF6.jpeg', 'data_new/raw-img/cane/OIP-HV3Poa9HHxZ4Qc92TlJ_ygHaFc.jpeg', 'data_new/raw-img/cane/OIP-FTq-KMrwf0NFqTUlrR_u1QEsDh.jpeg', 'data_new/raw-img/cane/OIP-eKsGhSiEHfkbPT_dC47X3wHaE5.jpeg', 'data_new/raw-img/cane/OIP-VvsvsibV2Vg31Me2o3xhngHaFB.jpeg', 'data_new/raw-img/cane/OIP-4oMQRKHNDXfJF2dTStoq9gHaFe.jpeg', 'data_new/raw-img/cane/OIP-JKpRUVL2iOeE-0A4WeOvSAHaEL.jpeg']\n"
     ]
    },
    {
     "name": "stderr",
     "output_type": "stream",
     "text": [
      "100%|██████████| 50/50 [00:00<00:00, 96.13it/s] \n"
     ]
    },
    {
     "name": "stdout",
     "output_type": "stream",
     "text": [
      "Processed images from 150 to 200\n"
     ]
    }
   ],
   "source": [
    "image_data = create_blurred_images(image_directory, num_imgs=200, batch_size=50, show_img=False)"
   ]
  }
 ],
 "metadata": {
  "kernelspec": {
   "display_name": "py-tf-torch-env",
   "language": "python",
   "name": "python3"
  },
  "language_info": {
   "codemirror_mode": {
    "name": "ipython",
    "version": 3
   },
   "file_extension": ".py",
   "mimetype": "text/x-python",
   "name": "python",
   "nbconvert_exporter": "python",
   "pygments_lexer": "ipython3",
   "version": "3.12.9"
  }
 },
 "nbformat": 4,
 "nbformat_minor": 2
}
