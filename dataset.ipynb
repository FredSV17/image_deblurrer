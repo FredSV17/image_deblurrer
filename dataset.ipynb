{
 "cells": [
  {
   "cell_type": "code",
   "execution_count": 1,
   "metadata": {},
   "outputs": [],
   "source": [
    "from noise_generator import create_blurred_images"
   ]
  },
  {
   "cell_type": "code",
   "execution_count": 2,
   "metadata": {},
   "outputs": [],
   "source": [
    "root_dir = \"data_new/raw-img\"\n",
    "img_dirs = [\"cane\",\"cavallo\",\"elefante\",\"farfalla\",\"gallina\",\"gatto\",\"mucca\",\"pecora\",\"ragno\",\"scoiattolo\"]"
   ]
  },
  {
   "cell_type": "code",
   "execution_count": 3,
   "metadata": {},
   "outputs": [
    {
     "name": "stdout",
     "output_type": "stream",
     "text": [
      "['data_new/raw-img/cane/OIP-Q45K6pszqn6enD8-6q_fegHaFJ.jpeg', 'data_new/raw-img/cane/OIP-33tm4LyWi7J0bGgVBzrjUwHaFj.jpeg', 'data_new/raw-img/cane/OIP-pvLK0Qm58FVMLYeD94Xl0QHaJQ.jpeg', 'data_new/raw-img/cane/OIP--BUglHhzleeaUXxOXNbgRQHaEK.jpeg', 'data_new/raw-img/cane/OIP-aD_7tN6EN8qfm9-faP0nbwHaE6.jpeg', 'data_new/raw-img/cane/OIP-vHXK92AOLd9Vsh32AQRLpQHaJ4.jpeg', 'data_new/raw-img/cane/OIP-XPO-RkDvIEO8nexFHL8gEgHaFe.jpeg', 'data_new/raw-img/cane/OIP-ljMiG4PbPeitFKNLEtEmwgHaJ4.jpeg', 'data_new/raw-img/cane/OIP-WQRHgbXEU7IURVWhksMf2AHaNK.jpeg', 'data_new/raw-img/cane/OIP-I9pb7UmnLSNjVdSL8CxnMgHaFj.jpeg', 'data_new/raw-img/cane/OIP-1QAZ3az3PslGA0yMAYmPBQHaFZ.jpeg', 'data_new/raw-img/cane/OIP-9XCHs9GEq7Lk2ZDGSdG16gHaF2.jpeg', 'data_new/raw-img/cane/OIP-M6wF2RE2xlCy3zRaIQmNmAHaFj.jpeg', 'data_new/raw-img/cane/OIP-AokC08h29SBY3LfwocwMLAHaJH.jpeg', 'data_new/raw-img/cane/OIP-zdQUfAWn7xT6taYCv04wMgHaHb.jpeg', 'data_new/raw-img/cane/OIP-CWJttXZDJf3rARWxQ_K2DQHaFa.jpeg', 'data_new/raw-img/cane/OIP-MaESuqyhd8OKciqTbcnP_QHaHa.jpeg', 'data_new/raw-img/cane/OIP-ngZo4O1g2qpaAsI28c72ZAHaFi.jpeg', 'data_new/raw-img/cane/OIP-eawPttgShWfuqhCDjYNXNwHaFj.jpeg', 'data_new/raw-img/cane/OIP-vGHEy8hup_Bg2pQBJ9jzDwHaNI.jpeg', 'data_new/raw-img/cane/OIP-SLkg947pUIA4lUqwwAoRAgHaE7.jpeg', 'data_new/raw-img/cane/OIP-wOgoVPA-EtWVe2_585km_gHaDt.jpeg', 'data_new/raw-img/cane/OIP-3WEzyeaiFic-DU-f9CcYswHaFh.jpeg', 'data_new/raw-img/cane/OIP-jDHcv34yrxxMq93B1BMEgwHaFj.jpeg', 'data_new/raw-img/cane/OIP-tny4XdFtHOawk7j78X-ObAHaJ4.jpeg', 'data_new/raw-img/cane/OIP-OqIZ49kX278zOKv3fRblmgHaGg.jpeg', 'data_new/raw-img/cane/OIP-0cMunZ5IpSFGRbH_vYFvXgHaJ3.jpeg', 'data_new/raw-img/cane/OIP-bw47xhAen0UiLtONf9biCQAAAA.jpeg', 'data_new/raw-img/cane/OIP-HwUL9x-GZn6--pI3PfEoSwHaFj.jpeg', 'data_new/raw-img/cane/OIP-I_uuryghJ3TicIR79OC_SwHaJ4.jpeg', 'data_new/raw-img/cane/OIP-NISeiZQbo4uwcohIOaqQsAHaJ4.jpeg', 'data_new/raw-img/cane/OIP-3_l_T4_hU5o21odZdEHlfAHaFc.jpeg', 'data_new/raw-img/cane/OIP-9eTuOCGKnRBv0BclGuXFFwHaEK.jpeg', 'data_new/raw-img/cane/OIP-NQyVaUdlvP8zKuetfmyDpAHaFi.jpeg', 'data_new/raw-img/cane/OIP-qgoh-WlYIKPSHlnkIp94BwHaHu.jpeg', 'data_new/raw-img/cane/OIP-3Viz--nA1-To-iRrG70i7wAAAA.jpeg', 'data_new/raw-img/cane/OIP-CKpG5Zh3gQLkJYXmNO3u1AHaFh.jpeg', 'data_new/raw-img/cane/OIP-7BMNpEmQ--dhWu7xyt6yIwHaFj.jpeg', 'data_new/raw-img/cane/OIP-SlMYhr9y5AnBnJQs1J2klwHaE9.jpeg', 'data_new/raw-img/cane/OIP-UJX5bV0i1Clqw72etVxt1AExDM.jpeg', 'data_new/raw-img/cane/OIP--tx2au-jG4xH01_RsE7UQQHaFj.jpeg', 'data_new/raw-img/cane/OIP-gtSHEYq5G7Iw3T_X_Jn1EQHaHa.jpeg', 'data_new/raw-img/cane/OIP-AFdOPdr8MRp0JBeEWlZ3hAAAAA.jpeg', 'data_new/raw-img/cane/OIP-xukU1EIrpvrxA9pNTwaoWgHaE8.jpeg', 'data_new/raw-img/cane/OIP-YyeauP0zuVc7i91Up3M41AHaFj.jpeg', 'data_new/raw-img/cane/OIP-ZT5NMWMt3fQb3B260yTsFgHaHa.jpeg', 'data_new/raw-img/cane/OIP-ZOioh0cZHOnAVBon7I8sEgHaHa.jpeg', 'data_new/raw-img/cane/OIP-mysMk7ogsEryhPoTHRBXCwHaFZ.jpeg', 'data_new/raw-img/cane/OIP-tBuLAR9MyyqkcIgh1oo76wHaGJ.jpeg', 'data_new/raw-img/cane/OIP-MzTLX6G95lCigdv59NQ9FAHaLH.jpeg', 'data_new/raw-img/cane/OIP-7VFfOw4iL_ksVgdtvp4mEwHaLL.jpeg']\n"
     ]
    },
    {
     "name": "stderr",
     "output_type": "stream",
     "text": [
      "100%|██████████| 51/51 [00:00<00:00, 162.90it/s]\n"
     ]
    },
    {
     "name": "stdout",
     "output_type": "stream",
     "text": [
      "Processed images from 0 to 51 for cane\n",
      "Current number of images: 0\n",
      "['data_new/raw-img/cane/OIP-SBbh2Qh_5dAOwL6y6DyMFgHaFA.jpeg', 'data_new/raw-img/cane/OIP-usA8IcnCTioLqJJw07seEwHaF7.jpeg', 'data_new/raw-img/cane/OIP-oAfLxwxcFzxsV-JvuAXJUgHaFj.jpeg', 'data_new/raw-img/cane/OIP-K4N-G2lcyps3ZUQMSjNtaAHaFj.jpeg', 'data_new/raw-img/cane/OIP-JVwJmcP0D3AyDZRIBBIlrAHaEK.jpeg', 'data_new/raw-img/cane/OIP-SVOVWEAqxFMBT2HV__9pcQHaF_.jpeg', 'data_new/raw-img/cane/OIP-z-OwfL4HykOFtwh3nOKizgHaEx.jpeg', 'data_new/raw-img/cane/OIP-73khJ9rdtQzsBImI6zkaqwHaGW.jpeg', 'data_new/raw-img/cane/OIP-yta9xCUkoHvHjiUar1iKQQHaE7.jpeg', 'data_new/raw-img/cane/OIP-Kq8nABjHu1zoXh4m59e7gwHaHI.jpeg', 'data_new/raw-img/cane/OIP-KXMVuPfPtTo-Tca2ZJTSLQHaE8.jpeg', 'data_new/raw-img/cane/OIP-oYENFJLU_1jMshgE1gpa_QHaFc.jpeg', 'data_new/raw-img/cane/OIP-wnh3L_bkGhXEyNkFq6OIlQHaHo.jpeg', 'data_new/raw-img/cane/OIP-JOhDHeDloIkf1KQOmg37oAHaF7.jpeg', 'data_new/raw-img/cane/OIP-w9_sTNEwp6FSTYtUvm0w-AHaJ6.jpeg', 'data_new/raw-img/cane/OIP-uUAVkRsSZ7Asc6jF_5HRQQHaHa.jpeg', 'data_new/raw-img/cane/OIP-bm7-FaOdm8KaPMSzaWoauwHaE8.jpeg', 'data_new/raw-img/cane/OIP-FjXAQa6nUYv8MSE2iL-VqQHaE7.jpeg', 'data_new/raw-img/cane/OIP-_k_31g7jp-n1WA3oUrZnUQHaF0.jpeg', 'data_new/raw-img/cane/OIP-tQo-uVkMFHb1Z0dN4b9S-AHaFj.jpeg', 'data_new/raw-img/cane/OIP-K1TTUyhDdr09hUguG_h-SwHaFj.jpeg', 'data_new/raw-img/cane/OIP-yG5_jyvFR9Moi4b9V2l3VwHaLJ.jpeg', 'data_new/raw-img/cane/OIP-E1Cz-grWMhm8evvrzWQujQHaFj.jpeg', 'data_new/raw-img/cane/OIP-rFyxtoWYc3OFCDoHYLdBugHaE7.jpeg', 'data_new/raw-img/cane/OIP-hoolVvulSNZCtsHdryf-TgHaFj.jpeg', 'data_new/raw-img/cane/OIP-cu8yp-C9cBm5MFwF1X084AHaHa.jpeg', 'data_new/raw-img/cane/OIP-Er6flB1n9xB-qkAxVSo2qgHaLw.jpeg', 'data_new/raw-img/cane/OIP-HxkKhhPhQMVPfyWJ1OjM_QHaFj.jpeg', 'data_new/raw-img/cane/OIP-plA9Vk6lqfNhsXjv9erNmgHaFv.jpeg', 'data_new/raw-img/cane/OIP-pa39fucPiDxnaPFUelZEFQHaHa.jpeg', 'data_new/raw-img/cane/OIP-eZ0Tg5Tl8opsEpxD8FF7uAHaIV.jpeg', 'data_new/raw-img/cane/OIP-z_9YifLhPW0QANVPHjl0KQHaIA.jpeg', 'data_new/raw-img/cane/OIP-3CGiEtuRwVmB98qXRjxmywAAAA.jpeg', 'data_new/raw-img/cane/OIP-qh6EAfSIxPoOYDQVPNKfwgHaHa.jpeg', 'data_new/raw-img/cane/OIP-pgSR8pZLgqS-PuoN1lIEggHaFj.jpeg', 'data_new/raw-img/cane/OIP-mEEG3M7QdU23oKtToyk0EwHaE7.jpeg', 'data_new/raw-img/cane/OIP-4afqUHyJVlQjd2nk7EYIiQHaEK.jpeg', 'data_new/raw-img/cane/OIP-uunK8lUt7R7rJ49xrgpSwAHaKd.jpeg', 'data_new/raw-img/cane/OIP-mZlS1yCT8SGBx8D2rQiqrAHaFk.jpeg', 'data_new/raw-img/cane/OIP-9pOEYUNFsUuKiZ3jIL-MEgHaH6.jpeg', 'data_new/raw-img/cane/OIP-mF80iFpNY5pHBO7uCt9gugHaJN.jpeg', 'data_new/raw-img/cane/OIP-UM5taQtGe28etsT8m-YwTgHaEN.jpeg', 'data_new/raw-img/cane/OIP-FeexT701v4tahB4URxSoIAHaE7.jpeg', 'data_new/raw-img/cane/OIP-XAtUbH4ib1itYFJH-0mV6gHaE7.jpeg', 'data_new/raw-img/cane/OIP-DRleYNAbDUlwOs6MSqf4WgHaFi.jpeg', 'data_new/raw-img/cane/OIP-z1IPLHRjG7f0Mkh5iH-y6QHaFi.jpeg', 'data_new/raw-img/cane/OIP-R4vtGxLkoJ5tzrjiO8lG8AHaIa.jpeg', 'data_new/raw-img/cane/OIP-v2haMkSdL539NxSSMmJZzQHaHJ.jpeg', 'data_new/raw-img/cane/OIP-BFcJ_H9KqDmkvGE9zehIWgHaJ4.jpeg', 'data_new/raw-img/cane/OIP-CQMji4YXqoy0MkqnF4h3DwHaFj.jpeg', 'data_new/raw-img/cane/OIP-HSLGtD6X-Dwptsok_00i2wHaHa.jpeg']\n"
     ]
    },
    {
     "name": "stderr",
     "output_type": "stream",
     "text": [
      "100%|██████████| 51/51 [00:00<00:00, 135.97it/s]\n"
     ]
    },
    {
     "name": "stdout",
     "output_type": "stream",
     "text": [
      "Processed images from 51 to 102 for cane\n",
      "Current number of images: 51\n",
      "['data_new/raw-img/cane/OIP-v6O57nL74Kfcp-PmoDOElgHaJ4.jpeg', 'data_new/raw-img/cane/OIP-idSbgFFphtl1YaOeJ8djsAHaNK.jpeg', 'data_new/raw-img/cane/OIP-rBo_-NZ9ECM6YsJmok_vkgHaGY.jpeg', 'data_new/raw-img/cane/OIP-iuD1HqqtmtlGUu8pWauVIQHaHF.jpeg', 'data_new/raw-img/cane/OIP-vgkDI030hLDjxjXhhgvTGgHaFj.jpeg', 'data_new/raw-img/cane/OIP-hR847vkUJ6fvfCYeGwYwTgHaDt.jpeg', 'data_new/raw-img/cane/OIP-pTvPYXBqScPEX65Ka-J79wHaF5.jpeg', 'data_new/raw-img/cane/OIP-R_PmQFKl33fHN34KqtnxiQHaFj.jpeg', 'data_new/raw-img/cane/OIP-vTY2FCFeDIkzApitO3FnbAHaFu.jpeg', 'data_new/raw-img/cane/OIP-gTK3d_QKpQq3eRzJQlB0FQHaFj.jpeg', 'data_new/raw-img/cane/OIP-ZuI6gGwdcCj7bj6c_Vo0zgHaE8.jpeg', 'data_new/raw-img/cane/OIP-9jM9AjraFSDAJX9Mk_OtbwHaFj.jpeg', 'data_new/raw-img/cane/OIP-Pvcf6LL65dsJ1jV9JkfHNQHaE7.jpeg', 'data_new/raw-img/cane/OIP-_lsGqgDWBe4VDPgw8DDkTgHaFj.jpeg', 'data_new/raw-img/cane/OIP-Uz_gbQ71Ft9m70i_P7UJYQHaE8.jpeg', 'data_new/raw-img/cane/OIP-4Fx1vinZ7Srh0nHbrnK9FQHaH_.jpeg', 'data_new/raw-img/cane/OIP-X6bibl4h9IHwSZP9x43OkgHaJ4.jpeg', 'data_new/raw-img/cane/OIP-7vfA3IIGBxvLdLnc3UwTfAHaFg.jpeg', 'data_new/raw-img/cane/OIP-I_rtgepZIsyAPoN2KkU_BwHaJ4.jpeg', 'data_new/raw-img/cane/OIP-gmnNMXeL9jx29L_h_GlPpgHaJ4.jpeg', 'data_new/raw-img/cane/OIP-q0ZdEmGhr8hLzno4njJ2rQHaFj.jpeg', 'data_new/raw-img/cane/OIP-7K9CKHEnBqzumma4jkiXZwHaKV.jpeg', 'data_new/raw-img/cane/OIP-49EzwfQF4PfsCfNjoR4WMAHaFW.jpeg', 'data_new/raw-img/cane/OIP-dWag2Nvtfna6bo-ZDWIVMgHaFj.jpeg', 'data_new/raw-img/cane/OIP-1UiwAQdMbUHb6BflmmWKFAHaEK.jpeg', 'data_new/raw-img/cane/OIP-iGbFNHD1MRtdqJpOaM-UWgHaEL.jpeg', 'data_new/raw-img/cane/OIP-7F-J3StLbpuvzRxrdT7lewHaIq.jpeg', 'data_new/raw-img/cane/OIP-sOkMOcqtOpxVqnYELV5sAwHaEK.jpeg', 'data_new/raw-img/cane/OIP-eYax0TWIujDzbEWZAEU-dgHaFj.jpeg', 'data_new/raw-img/cane/OIP-wTDXgsIP5nrfYgruXyt3ZAHaEK.jpeg', 'data_new/raw-img/cane/OIP-a5-z8_oQu2MFTks7l2lpowHaFj.jpeg', 'data_new/raw-img/cane/OIP-7iu9fvvULOBjtWUApXeqZQHaLK.jpeg', 'data_new/raw-img/cane/OIP-PE0EfRwaxuuMK24q23h2jQHaFg.jpeg', 'data_new/raw-img/cane/OIP-CuSfeaZ_ETKQUox7adb2wAHaHa.jpeg', 'data_new/raw-img/cane/OIP-m8yE2OKhIgj7RPLW1jVPWwHaEK.jpeg', 'data_new/raw-img/cane/OIP-1TAVqN6lx6ytUZozD40uZAHaHa.jpeg', 'data_new/raw-img/cane/OIP-vkHM2x1Srfm6mHgJHalnVgHaEK.jpeg', 'data_new/raw-img/cane/OIP-3ZZJ9Clc2L83GPmyGf4LwAEsEs.jpeg', 'data_new/raw-img/cane/OIP-giOeQq2iqD80dJQKBy14MwHaFj.jpeg', 'data_new/raw-img/cane/OIP-t7fJhv5ie5YyAN2lAxG_bAHaHE.jpeg', 'data_new/raw-img/cane/OIP-Ui0aL3-OxFtBqvJMg-TqzQHaJ4.jpeg', 'data_new/raw-img/cane/OIP-5hI4KOsaeyvSjy7_LiTJCgHaFm.jpeg', 'data_new/raw-img/cane/OIP-RK08N3tPEObi54QnYmBLHQHaJ4.jpeg', 'data_new/raw-img/cane/OIP-beKsdoWDY09yzrmP-6SHtQHaHa.jpeg', 'data_new/raw-img/cane/OIP-Q6L_hQHAnc0Mr1CqPKs2iwHaFE.jpeg', 'data_new/raw-img/cane/OIP--GlCH31Wry6Uj4tAHTnIUwHaJv.jpeg', 'data_new/raw-img/cane/OIP-76-YcKQApRKh-XA9eakmtQAAAA.jpeg', 'data_new/raw-img/cane/OIP-os_uHCMylbE0zgxbfvXsEgHaFj.jpeg', 'data_new/raw-img/cane/OIP-KbGb5Op6bGbqjxTnX2vRXAHaE7.jpeg', 'data_new/raw-img/cane/OIP-P1t2tC4N5Uj__qLrfJkqHwHaE7.jpeg', 'data_new/raw-img/cane/OIP-1XFM-0A5nIMIS2-3u84B3wHaJ3.jpeg']\n"
     ]
    },
    {
     "name": "stderr",
     "output_type": "stream",
     "text": [
      "100%|██████████| 51/51 [00:00<00:00, 130.84it/s]\n"
     ]
    },
    {
     "name": "stdout",
     "output_type": "stream",
     "text": [
      "Processed images from 102 to 153 for cane\n",
      "Current number of images: 153\n",
      "[]\n"
     ]
    },
    {
     "name": "stderr",
     "output_type": "stream",
     "text": [
      "0it [00:00, ?it/s]"
     ]
    },
    {
     "name": "stdout",
     "output_type": "stream",
     "text": [
      "Processed images from 153 to 51 for cavallo\n",
      "Current number of images: 306\n",
      "['data_new/raw-img/cavallo/OIP-Sxz7ALi0FDvONnOTrnELbwAAAA.jpeg', 'data_new/raw-img/cavallo/OIP-zjd8yZlf5pWv2tnn7MdKAwHaE0.jpeg', 'data_new/raw-img/cavallo/OIP-WudE1B76nWld9zmgOongWgHaFj.jpeg', 'data_new/raw-img/cavallo/OIP-JEIGg0ha5i1S5avwp3pRpQHaHw.jpeg', 'data_new/raw-img/cavallo/OIP-o2V6S2G87JLtRJ4-M0G9lwHaFj.jpeg', 'data_new/raw-img/cavallo/OIP-TDRXvolFO-OMTOGb0xygIwHaFj.jpeg', 'data_new/raw-img/cavallo/OIP-J-KA2--xyhia0Gd5L__ZDAHaFj.jpeg', 'data_new/raw-img/cavallo/OIP--_miqJwiTIao0aZytuqccgHaFj.jpeg', 'data_new/raw-img/cavallo/OIP-uDeXRJm1PVHAHxV4rJdPlwHaHr.jpeg', 'data_new/raw-img/cavallo/OIP-OW_cW5VFrrs29VMsAc9AVQHaFj.jpeg', 'data_new/raw-img/cavallo/OIP-e6C6Kb5WfYGYFu1btXIlgwHaFO.jpeg', 'data_new/raw-img/cavallo/OIP-e6xJYleoVgwSlPwxRjxkkAHaHP.jpeg', 'data_new/raw-img/cavallo/OIP-J786pqG6bAywUiff8ZDQ2gHaJ5.jpeg', 'data_new/raw-img/cavallo/OIP-Tdn47pexOyY46gGI7nInFAHaGl.jpeg', 'data_new/raw-img/cavallo/OIP-g_UFYbhUntk_YMygNYDL_wHaH-.jpeg', 'data_new/raw-img/cavallo/OIP-iHbl7stAryPlEhetgvItfAHaLj.jpeg', 'data_new/raw-img/cavallo/OIP--uO90bVo3RpYzTvjM78VsgHaHJ.jpeg', 'data_new/raw-img/cavallo/OIP-qdyuco_2aXJC5gTsiCTNrQHaGh.jpeg', 'data_new/raw-img/cavallo/OIP-lst4IHizH4sHGc634j_eQAHaGJ.jpeg', 'data_new/raw-img/cavallo/OIP-zwvm9B5IEpwA7LRC45aUsQHaFj.jpeg', 'data_new/raw-img/cavallo/OIP-zpc5VOUXIhtEaSHp9AA1WwHaHh.jpeg', 'data_new/raw-img/cavallo/OIP-XD3l9OwZedtSEEAKS5eCkgHaE7.jpeg', 'data_new/raw-img/cavallo/OIP-8ededrnDM9Ioa686VrB2cgHaE8.jpeg', 'data_new/raw-img/cavallo/OIP-Sk68RX7ksGY5dTx_wPkykAHaHa.jpeg', 'data_new/raw-img/cavallo/OIP-LNLYTodvKr3U-UBulhgH4gHaEK.jpeg', 'data_new/raw-img/cavallo/OIP-xvEI669gjtoNy6YEJDD5jQHaHa.jpeg', 'data_new/raw-img/cavallo/OIP-Npxx8kemjjTljUyT9-BQgAHaFi.jpeg', 'data_new/raw-img/cavallo/OIP-0uxRO3kvJ1MF_w__qDGw7wHaPg.jpeg', 'data_new/raw-img/cavallo/OIP-gFBkLStAb3FNelir3d4tiAAAAA.jpeg', 'data_new/raw-img/cavallo/OIP-OdQG8223lnCVxVWJF_dlSAHaFe.jpeg', 'data_new/raw-img/cavallo/OIP-lZf1VVDlB3HAaTf02pTTVQHaE8.jpeg', 'data_new/raw-img/cavallo/OIP-BDspwVFI2VDUlFU2ZdooYwHaE0.jpeg', 'data_new/raw-img/cavallo/OIP-jV-31cNPDAcDwYYPwVUSggAAAA.jpeg', 'data_new/raw-img/cavallo/OIP-7YnrV2CegztPYTJCfTLBcwHaE2.jpeg', 'data_new/raw-img/cavallo/OIP-sM4sL3IljNG2O7wfxF6ROwHaF7.jpeg', 'data_new/raw-img/cavallo/OIP-8VKl5RwEOjsBOP2f8EE0IAHaE8.jpeg', 'data_new/raw-img/cavallo/OIP-cTucz_88QCMahQW2h9mSjwHaEJ.jpeg', 'data_new/raw-img/cavallo/OIP-6_nLf4o02Gxb5OLHFSNHHgHaEn.jpeg', 'data_new/raw-img/cavallo/OIP-xEHIIv0tKmHGjOs7IdFAVAHaE8.jpeg', 'data_new/raw-img/cavallo/OIP-4Q9qGyzqJFlmpuoYGRl8XwHaFj.jpeg', 'data_new/raw-img/cavallo/OIP-IUiK9N8M7_kqVf1wa7tFtQHaFS.jpeg', 'data_new/raw-img/cavallo/OIP-HQ8MxWOJNXC-gou-T-VL6gHaGn.jpeg', 'data_new/raw-img/cavallo/OIP-FoNdAojghcfpAzV69qhWUgHaE5.jpeg', 'data_new/raw-img/cavallo/OIP-i1rJY82o3UKpCyMvzZaEpgHaFi.jpeg', 'data_new/raw-img/cavallo/OIP-pQ613UHOHpHE5nwxbYrUdwHaHa.jpeg', 'data_new/raw-img/cavallo/OIP-0eeBhUnfkVPP7eCiJLmesQHaGc.jpeg', 'data_new/raw-img/cavallo/OIP-KgZQxiaUZloRwXO6yvnChgHaKF.jpeg', 'data_new/raw-img/cavallo/OIP-6n5DXR4R6tbk2SVjIYhBggHaE6.jpeg', 'data_new/raw-img/cavallo/OIP-PHavgaYnfvIMwgOhudwrjAHaFD.jpeg', 'data_new/raw-img/cavallo/OIP-uzu6pKElD8czoRvA0weZGAHaF9.jpeg', 'data_new/raw-img/cavallo/OIP-oew-ttv-TsIu_tB3sYkkFgHaGG.jpeg']\n"
     ]
    },
    {
     "name": "stderr",
     "output_type": "stream",
     "text": [
      "\n",
      "100%|██████████| 51/51 [00:00<00:00, 153.89it/s]\n"
     ]
    },
    {
     "name": "stdout",
     "output_type": "stream",
     "text": [
      "Processed images from 51 to 102 for cavallo\n",
      "Current number of images: 357\n",
      "['data_new/raw-img/cavallo/OIP-08rcZ6sPWuvQ6j_ftRRRCAHaEF.jpeg', 'data_new/raw-img/cavallo/OIP-YNdo4JVO8Zv-razWemwX8wHaFj.jpeg', 'data_new/raw-img/cavallo/OIP-3oniYwQTl5Ho6ucAqsqCRQHaHa.jpeg', 'data_new/raw-img/cavallo/OIP-JT4hA92qZET7RL81pltpJgHaG9.jpeg', 'data_new/raw-img/cavallo/OIP-rywpnzoZJN4H_U4HYWiKgAHaHa.jpeg', 'data_new/raw-img/cavallo/OIP-0CbcT0X7tpygd_QTHx68IQHaFj.jpeg', 'data_new/raw-img/cavallo/OIP-nHMUDOvWahctuUZaV18lEwAAAA.jpeg', 'data_new/raw-img/cavallo/OIP-B9vWd50k6B6taOZXW8qt9gHaE7.jpeg', 'data_new/raw-img/cavallo/OIP-ZVWoBjAv-4zMLFwCHwauDwHaE7.jpeg', 'data_new/raw-img/cavallo/OIP-Sh1owUxqY5KB0hboU5CwuQEsDh.jpeg', 'data_new/raw-img/cavallo/OIP-JedMF7Abseg8fjtzyRlLtgAAAA.jpeg', 'data_new/raw-img/cavallo/OIP-dkANsEPIFCNc3z347Yt76QHaE6.jpeg', 'data_new/raw-img/cavallo/OIP-zfSiVpclTzreUOlKhVW0RAHaE8.jpeg', 'data_new/raw-img/cavallo/OIP-w5t--QghgCVBD3L9OeDJSwHaHa.jpeg', 'data_new/raw-img/cavallo/OIP-Wc4JpFUazV_y66UyNwqUwgHaEK.jpeg', 'data_new/raw-img/cavallo/OIP-qqNzZGXtM3epZu_XvxDq9gHaFj.jpeg', 'data_new/raw-img/cavallo/OIP-C31-_Jc--yCMXpON7FkNxQHaF6.jpeg', 'data_new/raw-img/cavallo/OIP-GEAjRYV5KQTK3NafDWqs5wHaFR.jpeg', 'data_new/raw-img/cavallo/OIP-yPPD3M1EmCOpAs5KnERxTAHaF9.jpeg', 'data_new/raw-img/cavallo/OIP-AMGnRN09N0YTQCTX5yd-xwHaGh.jpeg', 'data_new/raw-img/cavallo/OIP-RZ9e06rDEkWpdUU9OjWnkQHaDP.jpeg', 'data_new/raw-img/cavallo/OIP-A8MOPDJGmWovsV8Czm0hSAHaE8.jpeg', 'data_new/raw-img/cavallo/OIP-kmTjbr3G8ZzsQuAl6yTBaQHaLG.jpeg', 'data_new/raw-img/cavallo/OIP-UGe-psHo5TLJ6UUFJwCNuQHaGW.jpeg', 'data_new/raw-img/cavallo/OIP-4A6S2OpaOOqgEUKya7juPgDYEg.jpeg', 'data_new/raw-img/cavallo/OIP-Ll7G5t3-x_zNL_EqUbotugAAAA.jpeg', 'data_new/raw-img/cavallo/OIP-JkdabRpbwRFMRhNsSzUIUwHaE6.jpeg', 'data_new/raw-img/cavallo/OIP-eSTUiuLWvHCGHWG3MnZO-gHaH2.jpeg', 'data_new/raw-img/cavallo/OIP-lS06W6bD81zXI1l_yxfwUAHaGv.jpeg', 'data_new/raw-img/cavallo/OIP-cciXRs_-jbXgGk42tfrGnAHaF1.jpeg', 'data_new/raw-img/cavallo/OIP-kgWRifS_mVl-jYY-Mo18NAHaFb.jpeg', 'data_new/raw-img/cavallo/OIP-5nj5u9gieVo7sFARZmaRrQHaFt.jpeg', 'data_new/raw-img/cavallo/OIP-UlkJ-_kZNs9qlkMFmUeq9gHaEK.jpeg', 'data_new/raw-img/cavallo/OIP-Btga3yh8ILdqwjZhJoV_zAHaFj.jpeg', 'data_new/raw-img/cavallo/OIP-SVJ53BnRjRBoU1N84ZEK9gHaFj.jpeg', 'data_new/raw-img/cavallo/OIP-gA7R6HBBJKW6HAyTcYQtxgHaHa.jpeg', 'data_new/raw-img/cavallo/OIP-eBz0b2spdTJqzgBwxOA33gHaKy.jpeg', 'data_new/raw-img/cavallo/OIP-_ldNZbUn7uMvIdsTA6bKHAHaIP.jpeg', 'data_new/raw-img/cavallo/OIP-YvC-Evt2eWG-u7K0xZN8ZwHaFn.jpeg', 'data_new/raw-img/cavallo/OIP-2DfO7Xt46fQa-QtUg8YVUgHaE7.jpeg', 'data_new/raw-img/cavallo/OIP-n-__jtOwF5IcAeBy2UfVGQHaJY.jpeg', 'data_new/raw-img/cavallo/OIP-N7qygqJOI7r-ojhYG5Qj2AAAAA.jpeg', 'data_new/raw-img/cavallo/OIP-Kkd4YNrvpU2X7oZoSTrmsgHaE8.jpeg', 'data_new/raw-img/cavallo/OIP-xQ-MyYfk0zMxRS6ccQbTmAHaKU.jpeg', 'data_new/raw-img/cavallo/OIP-EpgZcyYIizTaiv5RKiaC4gHaE8.jpeg', 'data_new/raw-img/cavallo/OIP-y8iffeoeKFF8HZofkJdM3AHaGe.jpeg', 'data_new/raw-img/cavallo/OIP-fDE_DxL7pUTa-zHT4MLrrgHaG7.jpeg', 'data_new/raw-img/cavallo/OIP-2RHsTXcbyQQiqyssUmccjwHaE9.jpeg', 'data_new/raw-img/cavallo/OIP-ZwiQFqjVcJHwFrrik8Hr7wHaFi.jpeg', 'data_new/raw-img/cavallo/OIP-OgdPHedwaw8kKmOyxEJpMAAAAA.jpeg', 'data_new/raw-img/cavallo/OIP-hnbdgarNuszP3FNzvKsHPAAAAA.jpeg']\n"
     ]
    },
    {
     "name": "stderr",
     "output_type": "stream",
     "text": [
      "100%|██████████| 51/51 [00:00<00:00, 136.25it/s]\n"
     ]
    },
    {
     "name": "stdout",
     "output_type": "stream",
     "text": [
      "Processed images from 102 to 153 for cavallo\n",
      "Current number of images: 459\n",
      "[]\n"
     ]
    },
    {
     "name": "stderr",
     "output_type": "stream",
     "text": [
      "0it [00:00, ?it/s]"
     ]
    },
    {
     "name": "stdout",
     "output_type": "stream",
     "text": [
      "Processed images from 153 to 51 for elefante\n",
      "Current number of images: 612\n",
      "['data_new/raw-img/elefante/OIP-Ba16VdaMdGXRR2l3FI2ymgAAAA.jpeg', 'data_new/raw-img/elefante/OIP-k5SHP-bRmr_sYfndKCRrzQHaDn.jpeg', 'data_new/raw-img/elefante/OIP--NEqn4JVnn251xGu7ss4bQHaHa.jpeg', 'data_new/raw-img/elefante/OIP-tQ2LTQ-TfPA57LUEfX5z9AHaGZ.jpeg', 'data_new/raw-img/elefante/OIP-kmnMtnxl2s8sG_prn-pe6QHaFj.jpeg', 'data_new/raw-img/elefante/eb33b70c2bf3043ed1584d05fb1d4e9fe777ead218ac104497f5c978a4efbcb0_640.jpg', 'data_new/raw-img/elefante/OIP-qpgKvyeckAF4DQXef2QRfQAAAA.jpeg', 'data_new/raw-img/elefante/OIP-XmayByRotK9TIA_AidMkrAHaE8.jpeg', 'data_new/raw-img/elefante/OIP-xwzQyekc4HrqPcSpS6DlyAHaFj.jpeg', 'data_new/raw-img/elefante/OIP-eB4vbil_6m5iZxj_YaztTQHaGM.jpeg', 'data_new/raw-img/elefante/e83db30d2cfc003ed1584d05fb1d4e9fe777ead218ac104497f5c978a4efb4bb_640.jpg', 'data_new/raw-img/elefante/OIP-u8Gl5xrVPlSVOGdf_jSxMwHaF7.jpeg', 'data_new/raw-img/elefante/OIP-1vT13uZzPQicDrBGH2hqwwHaFt.jpeg', 'data_new/raw-img/elefante/ee37b1072bfc1c22d2524518b7444f92e37fe5d404b0144390f8c07aa4e5b0_640.jpg', 'data_new/raw-img/elefante/OIP-nBLRnn4-gGhMor4yy67e2AHaE5.jpeg', 'data_new/raw-img/elefante/OIP-AFrcyUy54r8-5nTHMWh41wHaFN.jpeg', 'data_new/raw-img/elefante/OIP-HZdsb_jZwr4HsrIty4ex0wHaKP.jpeg', 'data_new/raw-img/elefante/e83cb60828f5043ed1584d05fb1d4e9fe777ead218ac104497f5c978a4eebdbd_640.jpg', 'data_new/raw-img/elefante/e834b00921f11c22d2524518b7444f92e37fe5d404b0144390f8c07aa5ecb6_640.jpg', 'data_new/raw-img/elefante/eb32b40c2af6023ed1584d05fb1d4e9fe777ead218ac104497f5c978a4eebdbd_640.jpg', 'data_new/raw-img/elefante/OIP-gajSi1snxc3O7GEqMfTuwAHaEr.jpeg', 'data_new/raw-img/elefante/eb3db00e2cfc063ed1584d05fb1d4e9fe777ead218ac104497f5c978a4efb4bb_640.jpg', 'data_new/raw-img/elefante/OIP-8Xbv6lcHBI2DlbcOEaRxeQHaFT.jpeg', 'data_new/raw-img/elefante/ea35b80c28f3003ed1584d05fb1d4e9fe777ead218ac104497f5c978a4efbcb0_640.jpg', 'data_new/raw-img/elefante/eb3cb30c21f4073ed1584d05fb1d4e9fe777ead218ac104497f5c978a4efbcb0_640.jpg', 'data_new/raw-img/elefante/OIP-JI-VgUkErsyomorkv0tFFgHaFU.jpeg', 'data_new/raw-img/elefante/e133b5062cf71c22d2524518b7444f92e37fe5d404b0144390f8c07aa4e5b0_640.jpg', 'data_new/raw-img/elefante/OIP-QitLqpj9Z_AnrJU3Y04_QgHaE_.jpeg', 'data_new/raw-img/elefante/ea36b70c20f3093ed1584d05fb1d4e9fe777ead218ac104497f5c978a4efb4bb_640.jpg', 'data_new/raw-img/elefante/OIP-y26yPV9EgCbFMmfxfVaiQQHaFj.jpeg', 'data_new/raw-img/elefante/ef32b1092cf11c22d2524518b7444f92e37fe5d404b0144390f8c07aa5ecb6_640.jpg', 'data_new/raw-img/elefante/e833b20f2dfd1c22d2524518b7444f92e37fe5d404b0144390f8c07aa5ecb6_640.jpg', 'data_new/raw-img/elefante/eb33b7092af6053ed1584d05fb1d4e9fe777ead218ac104497f5c978a4eebdbd_640.jpg', 'data_new/raw-img/elefante/OIP-G26v77dLk7abwWqWebFkFAHaFc.jpeg', 'data_new/raw-img/elefante/OIP-rQHBnNEKU3_cXqotSows2gHaFj.jpeg', 'data_new/raw-img/elefante/OIP-IPGLIq2oR5hMK7O8EOx1qQHaE7.jpeg', 'data_new/raw-img/elefante/OIP-7cywJo2LJiG4ZOQciZ1DPQHaEK.jpeg', 'data_new/raw-img/elefante/OIP-_PTAa8mviXo-xUL1SjMILwHaE7.jpeg', 'data_new/raw-img/elefante/OIP-q1zF4jYFxB5v-WAFUlU0EQHaEK.jpeg', 'data_new/raw-img/elefante/eb31b1062df4083ed1584d05fb1d4e9fe777ead218ac104497f5c978a4efb4bb_640.jpg', 'data_new/raw-img/elefante/OIP-0XAbxzMOUSY1EF0JR5UI4gHaE4.jpeg', 'data_new/raw-img/elefante/OIP-SryMN6ARcaOtOB3HWJIyzQHaFj.jpeg', 'data_new/raw-img/elefante/OIP-xoRSiYHZ7fFrhV3NAnk3FQHaE5.jpeg', 'data_new/raw-img/elefante/OIP-xPFGaysthAEKSHncmx4EUgHaLH.jpeg', 'data_new/raw-img/elefante/e833b90f2cf4033ed1584d05fb1d4e9fe777ead218ac104497f5c978a4eebdbd_640.jpg', 'data_new/raw-img/elefante/OIP-xMUdF7pdJW4u51I8vmsgDQHaKd.jpeg', 'data_new/raw-img/elefante/OIP-BaUZmkos4I1Lw2_akwV9BQHaFj.jpeg', 'data_new/raw-img/elefante/OIP-cH1stOXVNq6ZlP-vpIBcxwHaE7.jpeg', 'data_new/raw-img/elefante/e837b10a2af2013ed1584d05fb1d4e9fe777ead218ac104497f5c978a4efb4bb_640.jpg', 'data_new/raw-img/elefante/OIP-7EIVbflWulEso5ASPEUbtQAAAA.jpeg', 'data_new/raw-img/elefante/eb37b50d21fc013ed1584d05fb1d4e9fe777ead218ac104497f5c978a4eebdbd_640.jpg']\n"
     ]
    },
    {
     "name": "stderr",
     "output_type": "stream",
     "text": [
      "\n",
      "100%|██████████| 51/51 [00:00<00:00, 157.52it/s]\n"
     ]
    },
    {
     "name": "stdout",
     "output_type": "stream",
     "text": [
      "Processed images from 51 to 102 for elefante\n",
      "Current number of images: 663\n",
      "['data_new/raw-img/elefante/OIP-gyXkTQYw_C4JR3p5kAsaUQHaEK.jpeg', 'data_new/raw-img/elefante/OIP-ahvzPqBK9Gx4jkJ-kYpLvgHaFj.jpeg', 'data_new/raw-img/elefante/OIP-auoKwI9rfiCvkOaDPmV1kwAAAA.jpeg', 'data_new/raw-img/elefante/OIP-gJzPZgvMtXQhHwdooi-spAHaEz.jpeg', 'data_new/raw-img/elefante/eb3cb00f2afd073ed1584d05fb1d4e9fe777ead218ac104497f5c978a4eebdbd_640.jpg', 'data_new/raw-img/elefante/OIP-JXR_kFOndGge0C-inLUWLQHaE9.jpeg', 'data_new/raw-img/elefante/OIP-ObCTXymcsLsD_L3ZBE9NtgHaEc.jpeg', 'data_new/raw-img/elefante/e836b30d2df1003ed1584d05fb1d4e9fe777ead218ac104497f5c978a4eebdbd_640.jpg', 'data_new/raw-img/elefante/OIP-ENedq1HVHCfx64xTbIq8HAHaF7.jpeg', 'data_new/raw-img/elefante/OIP-5WEgCq9T6EsULGLLyVSqeAHaI3.jpeg', 'data_new/raw-img/elefante/OIP-bX4cuv2oXvsBTLRW58VTOAHaEK.jpeg', 'data_new/raw-img/elefante/OIP-iYnMRI-UyKuhXRK79M3OiAHaE9.jpeg', 'data_new/raw-img/elefante/ea36b00e20f1013ed1584d05fb1d4e9fe777ead218ac104497f5c978a4efb4bb_640.jpg', 'data_new/raw-img/elefante/ea34b80c2ef2083ed1584d05fb1d4e9fe777ead218ac104497f5c978a4efb4bb_640.jpg', 'data_new/raw-img/elefante/eb33b70921f1053ed1584d05fb1d4e9fe777ead218ac104497f5c978a4eebdbd_640.jpg', 'data_new/raw-img/elefante/OIP-R0wJ-CAm66YWAsSMoeYswQHaFs.jpeg', 'data_new/raw-img/elefante/OIP-Fkfe_Xqb8PC7yErZQ56eyAAAAA.jpeg', 'data_new/raw-img/elefante/OIP-R2In4-qUYTJ5SGb81sELeQHaFY.jpeg', 'data_new/raw-img/elefante/OIP-lANQ3ZCRu6yRAs_DcJ36IAHaEi.jpeg', 'data_new/raw-img/elefante/OIP-sjeHzofdssb2vtWhVM8PGQHaFj.jpeg', 'data_new/raw-img/elefante/OIP-3Z0HqqlB4mQ3wTNvuPkgEwHaE7.jpeg', 'data_new/raw-img/elefante/OIP-20UjAMMfwS_u6OKhj03SAAHaIQ.jpeg', 'data_new/raw-img/elefante/OIP-ZR-NuMDLR_C-1CHKM7ST8wHaE6.jpeg', 'data_new/raw-img/elefante/OIP-_D6DvUUiXtOfiEQ7j-80EQHaEI.jpeg', 'data_new/raw-img/elefante/OIP-dCSD_V_yXyJLOwhXIOAmcAHaEo.jpeg', 'data_new/raw-img/elefante/OIP-JZWIx-JVZALdqiKfwokypQHaE8.jpeg', 'data_new/raw-img/elefante/OIP-2A0PybniFf5Qn74YQLlbbQHaE8.jpeg', 'data_new/raw-img/elefante/e834b60f29f4063ed1584d05fb1d4e9fe777ead218ac104497f5c978a4efbcb0_640.jpg', 'data_new/raw-img/elefante/OIP-XWGEslsdy_OCPIME7p_BKQHaH2.jpeg', 'data_new/raw-img/elefante/OIP-muI9PomElXHjNcFF1wzS2AHaFW.jpeg', 'data_new/raw-img/elefante/OIP-ho-V3xS1ohl5pgpKFWqbowHaFj.jpeg', 'data_new/raw-img/elefante/OIP-CedP4_tjJeqLIShDS4zY8wHaEK.jpeg', 'data_new/raw-img/elefante/OIP-2roauTFEeNBz_JXzbIQc0gHaD3.jpeg', 'data_new/raw-img/elefante/eb35b80a2ff3033ed1584d05fb1d4e9fe777ead218ac104497f5c978a4efbcb0_640.jpg', 'data_new/raw-img/elefante/OIP-QcWMmvvaeRgtbG4fpgkycwHaDk.jpeg', 'data_new/raw-img/elefante/OIP-lxIx40H33wkW-GMep2LjMQHaEK.jpeg', 'data_new/raw-img/elefante/OIP-SVFooTlKh9HMBKMEU-sRCAHaEK.jpeg', 'data_new/raw-img/elefante/eb37b20c2bf2093ed1584d05fb1d4e9fe777ead218ac104497f5c978a4efbcb0_640.jpg', 'data_new/raw-img/elefante/OIP-aNYDEQMo5Am37hoyAuZ8EQHaE7.jpeg', 'data_new/raw-img/elefante/e131b0072ee90021d85a5854ee454296eb70e3c818b413449df1c27ba6ee_640.jpg', 'data_new/raw-img/elefante/OIP-1MkUxrKrrAzSQ7dCJtMrQgHaE_.jpeg', 'data_new/raw-img/elefante/OIP-W-dMOBlE3qr2-cPoquMYdwAAAA.jpeg', 'data_new/raw-img/elefante/OIP-6zuw1NpybUBri4N33LpbHgHaFj.jpeg', 'data_new/raw-img/elefante/OIP-BcbkdFbAtWhvvm9aMom25gHaFZ.jpeg', 'data_new/raw-img/elefante/OIP-AEVp0CIoz58mDzR2Id4nvQHaE8.jpeg', 'data_new/raw-img/elefante/eb33b50e29f4083ed1584d05fb1d4e9fe777ead218ac104497f5c978a4eebdbd_640.jpg', 'data_new/raw-img/elefante/OIP-uP76278ztNBXw4IUtnR_qwHaFj.jpeg', 'data_new/raw-img/elefante/e834b60f29f5013ed1584d05fb1d4e9fe777ead218ac104497f5c978a4eebdbd_640.jpg', 'data_new/raw-img/elefante/OIP-Z9wGusnpjaWEUwcU_gcMHgHaEA.jpeg', 'data_new/raw-img/elefante/OIP-4WmHHgmRngHU6rJqrARQYwHaFj.jpeg', 'data_new/raw-img/elefante/OIP-cAm49Y-VaPSiGsNP354zZgHaLL.jpeg']\n"
     ]
    },
    {
     "name": "stderr",
     "output_type": "stream",
     "text": [
      "100%|██████████| 51/51 [00:00<00:00, 125.31it/s]\n"
     ]
    },
    {
     "ename": "KeyboardInterrupt",
     "evalue": "",
     "output_type": "error",
     "traceback": [
      "\u001b[0;31m---------------------------------------------------------------------------\u001b[0m",
      "\u001b[0;31mAttributeError\u001b[0m                            Traceback (most recent call last)",
      "File \u001b[0;32m~/anaconda3/envs/py-tf-torch-env/lib/python3.12/site-packages/PIL/ImageFile.py:554\u001b[0m, in \u001b[0;36m_save\u001b[0;34m(im, fp, tile, bufsize)\u001b[0m\n\u001b[1;32m    553\u001b[0m \u001b[38;5;28;01mtry\u001b[39;00m:\n\u001b[0;32m--> 554\u001b[0m     fh \u001b[38;5;241m=\u001b[39m fp\u001b[38;5;241m.\u001b[39mfileno()\n\u001b[1;32m    555\u001b[0m     fp\u001b[38;5;241m.\u001b[39mflush()\n",
      "\u001b[0;31mAttributeError\u001b[0m: '_idat' object has no attribute 'fileno'",
      "\nDuring handling of the above exception, another exception occurred:\n",
      "\u001b[0;31mKeyboardInterrupt\u001b[0m                         Traceback (most recent call last)",
      "Cell \u001b[0;32mIn[3], line 1\u001b[0m\n\u001b[0;32m----> 1\u001b[0m image_data \u001b[38;5;241m=\u001b[39m create_blurred_images(root_dir,img_dirs, num_imgs\u001b[38;5;241m=\u001b[39m\u001b[38;5;241m200\u001b[39m, batch_size\u001b[38;5;241m=\u001b[39m\u001b[38;5;241m50\u001b[39m, show_img\u001b[38;5;241m=\u001b[39m\u001b[38;5;28;01mFalse\u001b[39;00m)\n",
      "File \u001b[0;32m~/git_projects/image_deblurrer/noise_generator.py:77\u001b[0m, in \u001b[0;36mcreate_blurred_images\u001b[0;34m(root_dir, img_dirs, image_size, num_imgs, batch_size, show_img, max_workers)\u001b[0m\n\u001b[1;32m     74\u001b[0m \u001b[38;5;28;01melse\u001b[39;00m:\n\u001b[1;32m     75\u001b[0m     \u001b[38;5;66;03m# Save the blurred images to a new directory\u001b[39;00m\n\u001b[1;32m     76\u001b[0m     img_number \u001b[38;5;241m=\u001b[39m img_number \u001b[38;5;241m+\u001b[39m last_i\n\u001b[0;32m---> 77\u001b[0m     save_images(blurred_imgs, img_number, os\u001b[38;5;241m.\u001b[39mpath\u001b[38;5;241m.\u001b[39mjoin(BLURRED_IMGS_PATH))\n\u001b[1;32m     78\u001b[0m     save_images(images, img_number, os\u001b[38;5;241m.\u001b[39mpath\u001b[38;5;241m.\u001b[39mjoin(NORMAL_IMGS_PATH))\n\u001b[1;32m     79\u001b[0m \u001b[38;5;28mprint\u001b[39m(\u001b[38;5;124mf\u001b[39m\u001b[38;5;124m\"\u001b[39m\u001b[38;5;124mProcessed images from \u001b[39m\u001b[38;5;132;01m{\u001b[39;00mlast_i\u001b[38;5;132;01m}\u001b[39;00m\u001b[38;5;124m to \u001b[39m\u001b[38;5;132;01m{\u001b[39;00mi\u001b[38;5;132;01m}\u001b[39;00m\u001b[38;5;124m for \u001b[39m\u001b[38;5;132;01m{\u001b[39;00mimg_dir\u001b[38;5;132;01m}\u001b[39;00m\u001b[38;5;124m\"\u001b[39m)\n",
      "File \u001b[0;32m~/git_projects/image_deblurrer/noise_generator.py:46\u001b[0m, in \u001b[0;36msave_images\u001b[0;34m(images, start_range, directory_path)\u001b[0m\n\u001b[1;32m     44\u001b[0m \u001b[38;5;28;01mfor\u001b[39;00m img \u001b[38;5;129;01min\u001b[39;00m images:\n\u001b[1;32m     45\u001b[0m     img_pil \u001b[38;5;241m=\u001b[39m Image\u001b[38;5;241m.\u001b[39mfromarray(img)\n\u001b[0;32m---> 46\u001b[0m     img_pil\u001b[38;5;241m.\u001b[39msave(os\u001b[38;5;241m.\u001b[39mpath\u001b[38;5;241m.\u001b[39mjoin(directory_path, \u001b[38;5;124mf\u001b[39m\u001b[38;5;124m\"\u001b[39m\u001b[38;5;124mimage_\u001b[39m\u001b[38;5;132;01m{\u001b[39;00mcurr_index\u001b[38;5;132;01m}\u001b[39;00m\u001b[38;5;124m.png\u001b[39m\u001b[38;5;124m\"\u001b[39m))\n\u001b[1;32m     47\u001b[0m     curr_index \u001b[38;5;241m+\u001b[39m\u001b[38;5;241m=\u001b[39m \u001b[38;5;241m1\u001b[39m\n",
      "File \u001b[0;32m~/anaconda3/envs/py-tf-torch-env/lib/python3.12/site-packages/PIL/Image.py:2596\u001b[0m, in \u001b[0;36mImage.save\u001b[0;34m(self, fp, format, **params)\u001b[0m\n\u001b[1;32m   2593\u001b[0m     fp \u001b[38;5;241m=\u001b[39m cast(IO[\u001b[38;5;28mbytes\u001b[39m], fp)\n\u001b[1;32m   2595\u001b[0m \u001b[38;5;28;01mtry\u001b[39;00m:\n\u001b[0;32m-> 2596\u001b[0m     save_handler(\u001b[38;5;28mself\u001b[39m, fp, filename)\n\u001b[1;32m   2597\u001b[0m \u001b[38;5;28;01mexcept\u001b[39;00m \u001b[38;5;167;01mException\u001b[39;00m:\n\u001b[1;32m   2598\u001b[0m     \u001b[38;5;28;01mif\u001b[39;00m open_fp:\n",
      "File \u001b[0;32m~/anaconda3/envs/py-tf-torch-env/lib/python3.12/site-packages/PIL/PngImagePlugin.py:1488\u001b[0m, in \u001b[0;36m_save\u001b[0;34m(im, fp, filename, chunk, save_all)\u001b[0m\n\u001b[1;32m   1484\u001b[0m     single_im \u001b[38;5;241m=\u001b[39m _write_multiple_frames(\n\u001b[1;32m   1485\u001b[0m         im, fp, chunk, mode, rawmode, default_image, append_images\n\u001b[1;32m   1486\u001b[0m     )\n\u001b[1;32m   1487\u001b[0m \u001b[38;5;28;01mif\u001b[39;00m single_im:\n\u001b[0;32m-> 1488\u001b[0m     ImageFile\u001b[38;5;241m.\u001b[39m_save(\n\u001b[1;32m   1489\u001b[0m         single_im,\n\u001b[1;32m   1490\u001b[0m         cast(IO[\u001b[38;5;28mbytes\u001b[39m], _idat(fp, chunk)),\n\u001b[1;32m   1491\u001b[0m         [ImageFile\u001b[38;5;241m.\u001b[39m_Tile(\u001b[38;5;124m\"\u001b[39m\u001b[38;5;124mzip\u001b[39m\u001b[38;5;124m\"\u001b[39m, (\u001b[38;5;241m0\u001b[39m, \u001b[38;5;241m0\u001b[39m) \u001b[38;5;241m+\u001b[39m single_im\u001b[38;5;241m.\u001b[39msize, \u001b[38;5;241m0\u001b[39m, rawmode)],\n\u001b[1;32m   1492\u001b[0m     )\n\u001b[1;32m   1494\u001b[0m \u001b[38;5;28;01mif\u001b[39;00m info:\n\u001b[1;32m   1495\u001b[0m     \u001b[38;5;28;01mfor\u001b[39;00m info_chunk \u001b[38;5;129;01min\u001b[39;00m info\u001b[38;5;241m.\u001b[39mchunks:\n",
      "File \u001b[0;32m~/anaconda3/envs/py-tf-torch-env/lib/python3.12/site-packages/PIL/ImageFile.py:558\u001b[0m, in \u001b[0;36m_save\u001b[0;34m(im, fp, tile, bufsize)\u001b[0m\n\u001b[1;32m    556\u001b[0m     _encode_tile(im, fp, tile, bufsize, fh)\n\u001b[1;32m    557\u001b[0m \u001b[38;5;28;01mexcept\u001b[39;00m (\u001b[38;5;167;01mAttributeError\u001b[39;00m, io\u001b[38;5;241m.\u001b[39mUnsupportedOperation) \u001b[38;5;28;01mas\u001b[39;00m exc:\n\u001b[0;32m--> 558\u001b[0m     _encode_tile(im, fp, tile, bufsize, \u001b[38;5;28;01mNone\u001b[39;00m, exc)\n\u001b[1;32m    559\u001b[0m \u001b[38;5;28;01mif\u001b[39;00m \u001b[38;5;28mhasattr\u001b[39m(fp, \u001b[38;5;124m\"\u001b[39m\u001b[38;5;124mflush\u001b[39m\u001b[38;5;124m\"\u001b[39m):\n\u001b[1;32m    560\u001b[0m     fp\u001b[38;5;241m.\u001b[39mflush()\n",
      "File \u001b[0;32m~/anaconda3/envs/py-tf-torch-env/lib/python3.12/site-packages/PIL/ImageFile.py:584\u001b[0m, in \u001b[0;36m_encode_tile\u001b[0;34m(im, fp, tile, bufsize, fh, exc)\u001b[0m\n\u001b[1;32m    581\u001b[0m \u001b[38;5;28;01mif\u001b[39;00m exc:\n\u001b[1;32m    582\u001b[0m     \u001b[38;5;66;03m# compress to Python file-compatible object\u001b[39;00m\n\u001b[1;32m    583\u001b[0m     \u001b[38;5;28;01mwhile\u001b[39;00m \u001b[38;5;28;01mTrue\u001b[39;00m:\n\u001b[0;32m--> 584\u001b[0m         errcode, data \u001b[38;5;241m=\u001b[39m encoder\u001b[38;5;241m.\u001b[39mencode(bufsize)[\u001b[38;5;241m1\u001b[39m:]\n\u001b[1;32m    585\u001b[0m         fp\u001b[38;5;241m.\u001b[39mwrite(data)\n\u001b[1;32m    586\u001b[0m         \u001b[38;5;28;01mif\u001b[39;00m errcode:\n",
      "\u001b[0;31mKeyboardInterrupt\u001b[0m: "
     ]
    }
   ],
   "source": [
    "image_data = create_blurred_images(root_dir,img_dirs, num_imgs=200, batch_size=50, show_img=False)"
   ]
  }
 ],
 "metadata": {
  "kernelspec": {
   "display_name": "py-tf-torch-env",
   "language": "python",
   "name": "python3"
  },
  "language_info": {
   "codemirror_mode": {
    "name": "ipython",
    "version": 3
   },
   "file_extension": ".py",
   "mimetype": "text/x-python",
   "name": "python",
   "nbconvert_exporter": "python",
   "pygments_lexer": "ipython3",
   "version": "3.12.9"
  }
 },
 "nbformat": 4,
 "nbformat_minor": 2
}
